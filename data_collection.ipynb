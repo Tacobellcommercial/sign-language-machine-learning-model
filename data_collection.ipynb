{
 "cells": [
  {
   "cell_type": "code",
   "execution_count": 2,
   "metadata": {},
   "outputs": [],
   "source": [
    "import os\n",
    "import cv2\n",
    "import numpy as np"
   ]
  },
  {
   "cell_type": "code",
   "execution_count": 3,
   "metadata": {},
   "outputs": [],
   "source": [
    "#make a file directory and a function that will write 100 images for each label. 100 images for the letter a, for example.\n",
    "#use cv2 and the camera to write the image in the frame to these directories and os to manipulate the directories."
   ]
  },
  {
   "cell_type": "code",
   "execution_count": 4,
   "metadata": {},
   "outputs": [],
   "source": [
    "label_dictionary = {\"hello_label\": \"Hello Symbol\", \"i_love_you_label\": \"I Love You Symbol\", \"yes_label\": \"Yes Symbol\"}"
   ]
  },
  {
   "cell_type": "code",
   "execution_count": 5,
   "metadata": {},
   "outputs": [],
   "source": [
    "#cv2.imwrite(\"./label_images/a_label/label_1.jpg\", np.zeros((5, 5)))"
   ]
  },
  {
   "cell_type": "code",
   "execution_count": 6,
   "metadata": {},
   "outputs": [
    {
     "name": "stdout",
     "output_type": "stream",
     "text": [
      "Hello Symbol Data Collection\n",
      "I Love You Symbol Data Collection\n",
      "Yes Symbol Data Collection\n"
     ]
    }
   ],
   "source": [
    "cap = cv2.VideoCapture(0)\n",
    "\n",
    "for directory_name in label_dictionary:\n",
    "    \n",
    "    while True:\n",
    "        ret, frame = cap.read()\n",
    "                \n",
    "        cv2.putText(frame, \"Q to start data collection for: \" + label_dictionary[directory_name], (25, 50), cv2.FONT_HERSHEY_SIMPLEX, 0.8, (255, 0, 0), 2, cv2.LINE_AA)\n",
    "        \n",
    "        cv2.imshow(\"data_collection_frame\", frame)\n",
    "        \n",
    "        if cv2.waitKey(1) & 0xFF == ord(\"q\"):\n",
    "            break\n",
    "    \n",
    "    print(label_dictionary[directory_name]  + \" Data Collection\")\n",
    "    \n",
    "    counter=1\n",
    "    while counter < 125:\n",
    "        ret, frame = cap.read()\n",
    "        cv2.imshow(\"data_collection_frame\", frame)\n",
    "        cv2.waitKey(250) #wait 250 milliseconds\n",
    "        cv2.imwrite(\"./label_images/\" + directory_name + \"/label_\" + str(counter) + \".jpg\", frame) #write to directory\n",
    "        \n",
    "        counter+=1\n",
    "            \n",
    "        \n",
    "    \n",
    "cap.release()\n",
    "cv2.destroyAllWindows()"
   ]
  },
  {
   "cell_type": "code",
   "execution_count": null,
   "metadata": {},
   "outputs": [],
   "source": []
  },
  {
   "cell_type": "code",
   "execution_count": null,
   "metadata": {},
   "outputs": [],
   "source": []
  }
 ],
 "metadata": {
  "kernelspec": {
   "display_name": "Python 3",
   "language": "python",
   "name": "python3"
  },
  "language_info": {
   "codemirror_mode": {
    "name": "ipython",
    "version": 3
   },
   "file_extension": ".py",
   "mimetype": "text/x-python",
   "name": "python",
   "nbconvert_exporter": "python",
   "pygments_lexer": "ipython3",
   "version": "3.8.5"
  }
 },
 "nbformat": 4,
 "nbformat_minor": 4
}
